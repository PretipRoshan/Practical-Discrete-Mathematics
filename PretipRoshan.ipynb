{
  "nbformat": 4,
  "nbformat_minor": 0,
  "metadata": {
    "colab": {
      "provenance": [],
      "authorship_tag": "ABX9TyN8Ac45CNVVCyjT8y2z5ogk",
      "include_colab_link": true
    },
    "kernelspec": {
      "name": "python3",
      "display_name": "Python 3"
    },
    "language_info": {
      "name": "python"
    }
  },
  "cells": [
    {
      "cell_type": "markdown",
      "metadata": {
        "id": "view-in-github",
        "colab_type": "text"
      },
      "source": [
        "<a href=\"https://colab.research.google.com/github/PretipRoshan/Practical-Discrete-Mathematics/blob/master/PretipRoshan.ipynb\" target=\"_parent\"><img src=\"https://colab.research.google.com/assets/colab-badge.svg\" alt=\"Open In Colab\"/></a>"
      ]
    },
    {
      "cell_type": "code",
      "execution_count": null,
      "metadata": {
        "id": "YZsGcDSBLpF9"
      },
      "outputs": [],
      "source": [
        "# prompt: https://upload.wikimedia.org/wikipedia/en/c/cb/Monkey_D_Luffy.png enlarge the image double its size and how it to me install pillow\n",
        "\n",
        "!pip install Pillow\n",
        "from PIL import Image\n",
        "import requests\n",
        "from io import BytesIO\n",
        "\n",
        "url = \"https://upload.wikimedia.org/wikipedia/en/c/cb/Monkey_D_Luffy.png\"\n",
        "response = requests.get(url)\n",
        "img = Image.open(BytesIO(response.content))\n",
        "\n",
        "# Double the image size\n",
        "width, height = img.size\n",
        "new_width = width * 2\n",
        "new_height = height * 2\n",
        "resized_img = img.resize((new_width, new_height))\n",
        "\n",
        "# Display the image (in Colab environment)\n",
        "resized_img"
      ]
    },
    {
      "cell_type": "code",
      "source": [
        "# prompt: turn this image 90 degree\n",
        "\n",
        "from PIL import Image\n",
        "import requests\n",
        "from io import BytesIO\n",
        "\n",
        "url = \"https://upload.wikimedia.org/wikipedia/en/c/cb/Monkey_D_Luffy.png\"\n",
        "response = requests.get(url)\n",
        "img = Image.open(BytesIO(response.content))\n",
        "\n",
        "# Rotate the image 90 degrees counterclockwise\n",
        "rotated_img = img.rotate(90)\n",
        "\n",
        "# Display the image (in Colab environment)\n",
        "rotated_img"
      ],
      "metadata": {
        "id": "RWP0NHUfL4rW"
      },
      "execution_count": null,
      "outputs": []
    },
    {
      "cell_type": "code",
      "source": [
        "# prompt: combine these 2 image side by side vertically https://upload.wikimedia.org/wikipedia/commons/thumb/7/78/IShowSpeed_at_Chinatown_%28Portrait%29_03.jpg/800px-IShowSpeed_at_Chinatown_%28Portrait%29_03.jpg  https://en.wikipedia.org/wiki/Monkey_D._Luffy#/media/File:Monkey_D_Luffy.png\n",
        "\n",
        "import numpy as np\n",
        "from PIL import Image\n",
        "import requests\n",
        "from io import BytesIO\n",
        "\n",
        "def combine_images_vertically(image_urls):\n",
        "    images = []\n",
        "    for url in image_urls:\n",
        "        try:\n",
        "            response = requests.get(url, stream=True)\n",
        "            response.raise_for_status()  # Raise an exception for non-200 status codes\n",
        "            image = Image.open(BytesIO(response.content))\n",
        "            images.append(image)\n",
        "        except requests.exceptions.RequestException as e:\n",
        "            print(f\"Error downloading image from {url}: {e}\")\n",
        "            return None\n",
        "        except Exception as e:\n",
        "            print(f\"Error processing image from {url}: {e}\")\n",
        "            return None\n",
        "\n",
        "    widths, heights = zip(*(i.size for i in images))\n",
        "\n",
        "    total_width = max(widths)\n",
        "    max_height = sum(heights)\n",
        "\n",
        "    new_im = Image.new('RGB', (total_width, max_height))\n",
        "\n",
        "    y_offset = 0\n",
        "    for im in images:\n",
        "        new_im.paste(im, (0, y_offset))\n",
        "        y_offset += im.size[1]\n",
        "\n",
        "    return new_im\n",
        "\n",
        "image_urls = [\n",
        "    \"https://upload.wikimedia.org/wikipedia/en/a/a4/Roronoa_Zoro.jpg\",\n",
        "    \"https://upload.wikimedia.org/wikipedia/en/c/cb/Monkey_D_Luffy.png\"\n",
        "]\n",
        "\n",
        "combined_image = combine_images_vertically(image_urls)\n",
        "\n",
        "if combined_image:\n",
        "    combined_image.show()\n",
        "    # To save the image:\n",
        "    # combined_image.save(\"combined_image.jpg\")\n",
        "\n",
        "    # Display the image (in Colab environment)\n",
        "combined_image"
      ],
      "metadata": {
        "id": "nVPOO46TL5Vo"
      },
      "execution_count": null,
      "outputs": []
    },
    {
      "cell_type": "code",
      "source": [
        "# prompt: gray tone the image with luffy only\n",
        "\n",
        "from PIL import ImageOps\n",
        "\n",
        "# Assuming 'img' is the PIL Image object of Luffy\n",
        "# (from the previous code, after fetching the image from the URL)\n",
        "\n",
        "gray_luffy = ImageOps.grayscale(img)\n",
        "gray_luffy"
      ],
      "metadata": {
        "id": "SjN5ugiBL9Xs"
      },
      "execution_count": null,
      "outputs": []
    },
    {
      "cell_type": "code",
      "source": [
        "!pip install onnxruntime==1.15.1\n",
        "import numpy as np\n",
        "from rembg import remove\n",
        "\n",
        "transposed_image = img  # Assuming you want to process the original Luffy image\n",
        "rgb_image = transposed_image.convert(\"RGB\")\n",
        "\n",
        "# Remove the background\n",
        "output = remove(rgb_image)\n",
        "\n",
        "# Display the image without background\n",
        "display(output)"
      ],
      "metadata": {
        "id": "tdXYvo60MC1B"
      },
      "execution_count": null,
      "outputs": []
    }
  ]
}